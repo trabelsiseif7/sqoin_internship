{
 "cells": [
  {
   "cell_type": "code",
   "execution_count": 2,
   "metadata": {},
   "outputs": [
    {
     "name": "stderr",
     "output_type": "stream",
     "text": [
      "c:\\Users\\trabe\\AppData\\Local\\Programs\\Python\\Python39\\lib\\site-packages\\requests\\__init__.py:102: RequestsDependencyWarning: urllib3 (1.26.6) or chardet (5.1.0)/charset_normalizer (2.0.5) doesn't match a supported version!\n",
      "  warnings.warn(\"urllib3 ({}) or chardet ({})/charset_normalizer ({}) doesn't match a supported \"\n"
     ]
    }
   ],
   "source": [
    "import requests\n",
    "from bs4 import BeautifulSoup\n",
    "import csv\n",
    "from itertools import zip_longest\n",
    "import pandas as pd\n",
    "import pymysql\n",
    "import sqlite3\n",
    "import pyodbc"
   ]
  },
  {
   "cell_type": "code",
   "execution_count": 3,
   "metadata": {},
   "outputs": [],
   "source": [
    "result = requests.get(f\"https://101blockchains.com/cryptocurrency-faqs/\")    \n",
    "src = result.content\n",
    "soup = BeautifulSoup(src,\"lxml\")\n"
   ]
  },
  {
   "cell_type": "code",
   "execution_count": 4,
   "metadata": {},
   "outputs": [],
   "source": [
    "questions = soup.find_all(\"h3\")"
   ]
  },
  {
   "cell_type": "code",
   "execution_count": 5,
   "metadata": {},
   "outputs": [
    {
     "data": {
      "text/plain": [
       "33"
      ]
     },
     "execution_count": 5,
     "metadata": {},
     "output_type": "execute_result"
    }
   ],
   "source": [
    "len(questions)"
   ]
  },
  {
   "cell_type": "code",
   "execution_count": 18,
   "metadata": {},
   "outputs": [],
   "source": [
    "Questions_list = []\n",
    "answers_list = []\n",
    "for i in range(25):\n",
    "    question = questions[i]\n",
    "    question_text = question.text\n",
    "\n",
    "    # Find the next <h3> tag, or the end of the document\n",
    "    if i+1 < len(questions):\n",
    "        next_question = questions[i+1]\n",
    "    else:\n",
    "        next_question = None\n",
    "\n",
    "    # Find all <p> tags (answers) between the current and next question\n",
    "    answer_tags = []\n",
    "    current_element = question.next_sibling\n",
    "    while current_element is not None and current_element != next_question:\n",
    "        if current_element.name == \"p\":\n",
    "            answer_tags.append(current_element)\n",
    "        current_element = current_element.next_sibling\n",
    "\n",
    "    # Extract the text content of all <p> tags\n",
    "    answers = [answer.text for answer in answer_tags]\n",
    "\n",
    "    Questions_list.append(question_text)\n",
    "    answer = \"\"\n",
    "    for i in range(len(answers)):\n",
    "        answer = answer +\" \"+ answers[i]\n",
    "    answers_list.append(answer)"
   ]
  },
  {
   "cell_type": "code",
   "execution_count": 21,
   "metadata": {},
   "outputs": [
    {
     "data": {
      "text/plain": [
       "25"
      ]
     },
     "execution_count": 21,
     "metadata": {},
     "output_type": "execute_result"
    }
   ],
   "source": [
    "len(Questions_list)"
   ]
  },
  {
   "cell_type": "code",
   "execution_count": 22,
   "metadata": {},
   "outputs": [
    {
     "data": {
      "text/plain": [
       "25"
      ]
     },
     "execution_count": 22,
     "metadata": {},
     "output_type": "execute_result"
    }
   ],
   "source": [
    "len(answers_list)"
   ]
  },
  {
   "cell_type": "code",
   "execution_count": 23,
   "metadata": {},
   "outputs": [],
   "source": [
    "import pandas as pd \n",
    "df = pd.DataFrame({\"Questions\":Questions_list , \"Answers\":answers_list})"
   ]
  },
  {
   "cell_type": "code",
   "execution_count": 24,
   "metadata": {},
   "outputs": [
    {
     "data": {
      "text/html": [
       "<div>\n",
       "<style scoped>\n",
       "    .dataframe tbody tr th:only-of-type {\n",
       "        vertical-align: middle;\n",
       "    }\n",
       "\n",
       "    .dataframe tbody tr th {\n",
       "        vertical-align: top;\n",
       "    }\n",
       "\n",
       "    .dataframe thead th {\n",
       "        text-align: right;\n",
       "    }\n",
       "</style>\n",
       "<table border=\"1\" class=\"dataframe\">\n",
       "  <thead>\n",
       "    <tr style=\"text-align: right;\">\n",
       "      <th></th>\n",
       "      <th>Questions</th>\n",
       "      <th>Answers</th>\n",
       "    </tr>\n",
       "  </thead>\n",
       "  <tbody>\n",
       "    <tr>\n",
       "      <th>0</th>\n",
       "      <td>1. What is cryptocurrency?</td>\n",
       "      <td>The first and obvious addition among cryptocu...</td>\n",
       "    </tr>\n",
       "    <tr>\n",
       "      <th>1</th>\n",
       "      <td>2. What is blockchain?</td>\n",
       "      <td>You could not find any list of cryptocurrency...</td>\n",
       "    </tr>\n",
       "    <tr>\n",
       "      <th>2</th>\n",
       "      <td>3. What are public and private keys?</td>\n",
       "      <td>The next important addition among the best qu...</td>\n",
       "    </tr>\n",
       "    <tr>\n",
       "      <th>3</th>\n",
       "      <td>4. How do cryptocurrencies work?</td>\n",
       "      <td>The working of cryptocurrencies is also a com...</td>\n",
       "    </tr>\n",
       "    <tr>\n",
       "      <th>4</th>\n",
       "      <td>5. What are the reasons for the popularity of ...</td>\n",
       "      <td>The reasons for the popularity of cryptocurre...</td>\n",
       "    </tr>\n",
       "  </tbody>\n",
       "</table>\n",
       "</div>"
      ],
      "text/plain": [
       "                                           Questions  \\\n",
       "0                         1. What is cryptocurrency?   \n",
       "1                             2. What is blockchain?   \n",
       "2               3. What are public and private keys?   \n",
       "3                   4. How do cryptocurrencies work?   \n",
       "4  5. What are the reasons for the popularity of ...   \n",
       "\n",
       "                                             Answers  \n",
       "0   The first and obvious addition among cryptocu...  \n",
       "1   You could not find any list of cryptocurrency...  \n",
       "2   The next important addition among the best qu...  \n",
       "3   The working of cryptocurrencies is also a com...  \n",
       "4   The reasons for the popularity of cryptocurre...  "
      ]
     },
     "execution_count": 24,
     "metadata": {},
     "output_type": "execute_result"
    }
   ],
   "source": [
    "df.head()"
   ]
  },
  {
   "cell_type": "code",
   "execution_count": 25,
   "metadata": {},
   "outputs": [],
   "source": [
    "df.to_excel(\"25rows.xlsx\")"
   ]
  },
  {
   "cell_type": "code",
   "execution_count": null,
   "metadata": {},
   "outputs": [],
   "source": []
  }
 ],
 "metadata": {
  "kernelspec": {
   "display_name": "Python 3",
   "language": "python",
   "name": "python3"
  },
  "language_info": {
   "codemirror_mode": {
    "name": "ipython",
    "version": 3
   },
   "file_extension": ".py",
   "mimetype": "text/x-python",
   "name": "python",
   "nbconvert_exporter": "python",
   "pygments_lexer": "ipython3",
   "version": "3.9.7"
  },
  "orig_nbformat": 4
 },
 "nbformat": 4,
 "nbformat_minor": 2
}
