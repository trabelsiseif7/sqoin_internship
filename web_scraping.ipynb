{
 "cells": [
  {
   "cell_type": "code",
   "execution_count": 1,
   "metadata": {},
   "outputs": [
    {
     "name": "stderr",
     "output_type": "stream",
     "text": [
      "c:\\Users\\trabe\\AppData\\Local\\Programs\\Python\\Python39\\lib\\site-packages\\requests\\__init__.py:102: RequestsDependencyWarning: urllib3 (1.26.6) or chardet (5.1.0)/charset_normalizer (2.0.5) doesn't match a supported version!\n",
      "  warnings.warn(\"urllib3 ({}) or chardet ({})/charset_normalizer ({}) doesn't match a supported \"\n"
     ]
    }
   ],
   "source": [
    "import requests\n",
    "from bs4 import BeautifulSoup\n",
    "import csv\n",
    "from itertools import zip_longest\n",
    "import pandas as pd\n",
    "import pymysql\n",
    "import sqlite3\n",
    "import pyodbc"
   ]
  },
  {
   "cell_type": "code",
   "execution_count": 3,
   "metadata": {},
   "outputs": [],
   "source": [
    "#while True :\n",
    "result = requests.get(f\"https://www.knowledgehut.com/interview-questions/blockchain-interview-questions#intermediate\")    \n",
    "src = result.content\n",
    "soup = BeautifulSoup(src,\"lxml\")\n",
    "\n"
   ]
  },
  {
   "cell_type": "code",
   "execution_count": 12,
   "metadata": {},
   "outputs": [],
   "source": [
    "questions = soup.find_all(\"span\",{\"class\":\"heading editor-class\"})"
   ]
  },
  {
   "cell_type": "code",
   "execution_count": 13,
   "metadata": {},
   "outputs": [],
   "source": [
    "Questions_list = []\n",
    "for q in questions :\n",
    "    Questions_list.append(q.text)"
   ]
  },
  {
   "cell_type": "code",
   "execution_count": 14,
   "metadata": {},
   "outputs": [
    {
     "data": {
      "text/plain": [
       "['What is a security policy?',\n",
       " 'What is the difference between Blockchain and a traditional database?',\n",
       " 'What makes you excited about Blockchain technology?',\n",
       " 'What is innovative asset lifecycle management in a Blockchain context?',\n",
       " 'What is Pseudonymity in the context of Blockchains?',\n",
       " 'What is a hardware wallet?',\n",
       " 'What are the limitations of Blockchain?',\n",
       " 'What are the threats to the information?',\n",
       " 'What is information processing?',\n",
       " 'How do you explain blockchain to someone who does not know it?',\n",
       " 'What is Blockchain?',\n",
       " 'How do Blockchains work?',\n",
       " 'Mention the popular blockchain platforms',\n",
       " 'How can blockchains enable trustlessness?',\n",
       " 'What is a Block in a Blockchain?',\n",
       " 'However, the number of\\xa0blocks\\xa0from the genesis block (or the first\\xa0block\\xa0on the blockchain) can\\xa0always be tracked.\\xa0This is why whenever an update is due, it is often referred\\xa0to\\xa0in terms of\\xa0the\\xa0block number and not the exact date and time of\\xa0the\\xa0update.\\xa0What constitutes a block?',\n",
       " 'Can Block data be changed?',\n",
       " 'What types of records are available in Blockchains?',\n",
       " 'What records can be stored on a Blockchain?',\n",
       " 'Is it possible to filter blocks from a Blockchain?',\n",
       " 'What are the different types of blockchains?',\n",
       " 'What is a ledger?',\n",
       " 'What are the different types of Ledgers?',\n",
       " 'Difference between public and private key',\n",
       " 'What are some of the key features of Blockchain?',\n",
       " 'What is the order of blocks in the Blockchain?',\n",
       " 'What are BIP and EIP?',\n",
       " 'What is a node in a blockchain?',\n",
       " 'What is a smart contract?',\n",
       " 'What is a hash function?',\n",
       " 'What is a mining node in blockchain technology?',\n",
       " 'What is a private blockchain?',\n",
       " 'What is the purpose of a decentralized exchange (DEX)?',\n",
       " 'What is the difference between a hot and a cold wallet?',\n",
       " 'What is a cryptocurrency wallet, and how does it work?',\n",
       " 'What is the purpose of a cryptocurrency?',\n",
       " 'What is the difference between a blockchain and a database?',\n",
       " 'What is the purpose of a decentralized application (DApp)?',\n",
       " 'What is a 51% attack, and how can it be prevented?',\n",
       " 'What is the role of miners in a blockchain network?',\n",
       " 'What is a node in a blockchain network?',\n",
       " 'What is the purpose of a fork in a Blockchain?',\n",
       " 'What is encryption and its role in blockchain?',\n",
       " 'What are the different types of consensus algorithms?',\n",
       " 'Which cryptographic algorithm is used by Bitcoin?',\n",
       " 'What are the core components of Blockchain architecture:',\n",
       " 'What are the network-specific conditions for employing Blockchain technology in a company?',\n",
       " 'What are the risk management techniques while securing transaction records?',\n",
       " 'What is the difference between off-chain and on-chain transactions?',\n",
       " 'How can you implement a blockchain project?',\n",
       " 'What is double spending?',\n",
       " 'What is Blind Signature?',\n",
       " 'What are the fundamental principles in a blockchain that help eliminate security threats?',\n",
       " 'What is the difference between Proof-of-Stake and Proof-of-Work?',\n",
       " 'What is a Coinbase transaction?',\n",
       " 'What are Merkle trees?',\n",
       " 'Why have Blockchains considered a safe haven for your data?',\n",
       " 'What is Secret Sharing in the context of Blockchains?',\n",
       " 'Do Blockchains support executive accounting?',\n",
       " 'What is a trapdoor function?',\n",
       " 'Can Blockchains exist without tokens?',\n",
       " 'What are the main advantages of using blockchain technology?',\n",
       " 'What is DeFi?',\n",
       " 'What is a nonce in the context of Blockchain?',\n",
       " 'Can you explain how the double-spend problem is solved in a blockchain?',\n",
       " 'How do smart contracts work in a blockchain network?',\n",
       " 'Can you describe how blockchain technology can be used to improve supply chain management?',\n",
       " 'How does the scalability of a blockchain network affect its performance and security?',\n",
       " 'Can you describe how zero-knowledge proofs work in a blockchain context?',\n",
       " 'Can you explain how sharding works in a blockchain context and how it can be used to improve scalability?']"
      ]
     },
     "execution_count": 14,
     "metadata": {},
     "output_type": "execute_result"
    }
   ],
   "source": [
    "Questions_list"
   ]
  },
  {
   "cell_type": "code",
   "execution_count": 30,
   "metadata": {},
   "outputs": [],
   "source": [
    "answers = soup.find_all(\"div\",{\"class\":\"panel-body\"})\n",
    "\n"
   ]
  },
  {
   "cell_type": "code",
   "execution_count": 31,
   "metadata": {},
   "outputs": [
    {
     "data": {
      "text/plain": [
       "140"
      ]
     },
     "execution_count": 31,
     "metadata": {},
     "output_type": "execute_result"
    }
   ],
   "source": [
    "len(answers)"
   ]
  },
  {
   "cell_type": "code",
   "execution_count": 32,
   "metadata": {},
   "outputs": [],
   "source": [
    "answers = answers[:70]"
   ]
  },
  {
   "cell_type": "code",
   "execution_count": 33,
   "metadata": {},
   "outputs": [
    {
     "data": {
      "text/plain": [
       "70"
      ]
     },
     "execution_count": 33,
     "metadata": {},
     "output_type": "execute_result"
    }
   ],
   "source": [
    "len(answers)"
   ]
  },
  {
   "cell_type": "code",
   "execution_count": 35,
   "metadata": {},
   "outputs": [
    {
     "data": {
      "text/plain": [
       "<div class=\"panel-body\"> <div class=\"editor-class\"> <p>Sharding is a technique that can be used to improve the scalability of a blockchain network.</p><p>In a sharded blockchain, the network is divided into smaller sub-networks, or shards, each of which processes a portion of the network's transactions.</p><p>This can allow a blockchain network to process more transactions in parallel, increasing its overall throughput. However, implementing sharding can also introduce additional complexity to the network and may require changes to the consensus mechanism.</p> </div> </div>"
      ]
     },
     "execution_count": 35,
     "metadata": {},
     "output_type": "execute_result"
    }
   ],
   "source": [
    "answers[69]"
   ]
  },
  {
   "cell_type": "code",
   "execution_count": 36,
   "metadata": {},
   "outputs": [],
   "source": [
    "answers_list = []\n",
    "for a in answers :\n",
    "    answers_list.append(a.text)\n"
   ]
  },
  {
   "cell_type": "code",
   "execution_count": 38,
   "metadata": {},
   "outputs": [
    {
     "data": {
      "text/plain": [
       "70"
      ]
     },
     "execution_count": 38,
     "metadata": {},
     "output_type": "execute_result"
    }
   ],
   "source": [
    "len(answers_list)"
   ]
  },
  {
   "cell_type": "code",
   "execution_count": 40,
   "metadata": {},
   "outputs": [],
   "source": [
    "import pandas as pd "
   ]
  },
  {
   "cell_type": "code",
   "execution_count": 41,
   "metadata": {},
   "outputs": [],
   "source": [
    "df = pd.DataFrame({\"Questions\":Questions_list , \"Answers\":answers_list})"
   ]
  },
  {
   "cell_type": "code",
   "execution_count": 42,
   "metadata": {},
   "outputs": [
    {
     "data": {
      "text/html": [
       "<div>\n",
       "<style scoped>\n",
       "    .dataframe tbody tr th:only-of-type {\n",
       "        vertical-align: middle;\n",
       "    }\n",
       "\n",
       "    .dataframe tbody tr th {\n",
       "        vertical-align: top;\n",
       "    }\n",
       "\n",
       "    .dataframe thead th {\n",
       "        text-align: right;\n",
       "    }\n",
       "</style>\n",
       "<table border=\"1\" class=\"dataframe\">\n",
       "  <thead>\n",
       "    <tr style=\"text-align: right;\">\n",
       "      <th></th>\n",
       "      <th>Questions</th>\n",
       "      <th>Answers</th>\n",
       "    </tr>\n",
       "  </thead>\n",
       "  <tbody>\n",
       "    <tr>\n",
       "      <th>0</th>\n",
       "      <td>What is a security policy?</td>\n",
       "      <td>Security policy is the formal documented pla...</td>\n",
       "    </tr>\n",
       "    <tr>\n",
       "      <th>1</th>\n",
       "      <td>What is the difference between Blockchain and ...</td>\n",
       "      <td>This is a frequently asked question in Block...</td>\n",
       "    </tr>\n",
       "    <tr>\n",
       "      <th>2</th>\n",
       "      <td>What makes you excited about Blockchain techno...</td>\n",
       "      <td>The best part about Blockchain technology is...</td>\n",
       "    </tr>\n",
       "    <tr>\n",
       "      <th>3</th>\n",
       "      <td>What is innovative asset lifecycle management ...</td>\n",
       "      <td>Expect to come across this popular question ...</td>\n",
       "    </tr>\n",
       "    <tr>\n",
       "      <th>4</th>\n",
       "      <td>What is Pseudonymity in the context of Blockch...</td>\n",
       "      <td>A lot of people confuse anonymous and pseudo...</td>\n",
       "    </tr>\n",
       "    <tr>\n",
       "      <th>...</th>\n",
       "      <td>...</td>\n",
       "      <td>...</td>\n",
       "    </tr>\n",
       "    <tr>\n",
       "      <th>65</th>\n",
       "      <td>How do smart contracts work in a blockchain ne...</td>\n",
       "      <td>Smart contracts are self-executing contracts...</td>\n",
       "    </tr>\n",
       "    <tr>\n",
       "      <th>66</th>\n",
       "      <td>Can you describe how blockchain technology can...</td>\n",
       "      <td>Blockchain technology has the potential to r...</td>\n",
       "    </tr>\n",
       "    <tr>\n",
       "      <th>67</th>\n",
       "      <td>How does the scalability of a blockchain netwo...</td>\n",
       "      <td>Scalability refers to a blockchain network's...</td>\n",
       "    </tr>\n",
       "    <tr>\n",
       "      <th>68</th>\n",
       "      <td>Can you describe how zero-knowledge proofs wor...</td>\n",
       "      <td>Zero-knowledge proofs are cryptographic tech...</td>\n",
       "    </tr>\n",
       "    <tr>\n",
       "      <th>69</th>\n",
       "      <td>Can you explain how sharding works in a blockc...</td>\n",
       "      <td>Sharding is a technique that can be used to ...</td>\n",
       "    </tr>\n",
       "  </tbody>\n",
       "</table>\n",
       "<p>70 rows × 2 columns</p>\n",
       "</div>"
      ],
      "text/plain": [
       "                                            Questions  \\\n",
       "0                          What is a security policy?   \n",
       "1   What is the difference between Blockchain and ...   \n",
       "2   What makes you excited about Blockchain techno...   \n",
       "3   What is innovative asset lifecycle management ...   \n",
       "4   What is Pseudonymity in the context of Blockch...   \n",
       "..                                                ...   \n",
       "65  How do smart contracts work in a blockchain ne...   \n",
       "66  Can you describe how blockchain technology can...   \n",
       "67  How does the scalability of a blockchain netwo...   \n",
       "68  Can you describe how zero-knowledge proofs wor...   \n",
       "69  Can you explain how sharding works in a blockc...   \n",
       "\n",
       "                                              Answers  \n",
       "0     Security policy is the formal documented pla...  \n",
       "1     This is a frequently asked question in Block...  \n",
       "2     The best part about Blockchain technology is...  \n",
       "3     Expect to come across this popular question ...  \n",
       "4     A lot of people confuse anonymous and pseudo...  \n",
       "..                                                ...  \n",
       "65    Smart contracts are self-executing contracts...  \n",
       "66    Blockchain technology has the potential to r...  \n",
       "67    Scalability refers to a blockchain network's...  \n",
       "68    Zero-knowledge proofs are cryptographic tech...  \n",
       "69    Sharding is a technique that can be used to ...  \n",
       "\n",
       "[70 rows x 2 columns]"
      ]
     },
     "execution_count": 42,
     "metadata": {},
     "output_type": "execute_result"
    }
   ],
   "source": [
    "df"
   ]
  },
  {
   "cell_type": "code",
   "execution_count": 43,
   "metadata": {},
   "outputs": [],
   "source": [
    "df.to_excel(\"70QA.xlsx\")"
   ]
  },
  {
   "cell_type": "code",
   "execution_count": null,
   "metadata": {},
   "outputs": [],
   "source": []
  }
 ],
 "metadata": {
  "kernelspec": {
   "display_name": "Python 3",
   "language": "python",
   "name": "python3"
  },
  "language_info": {
   "codemirror_mode": {
    "name": "ipython",
    "version": 3
   },
   "file_extension": ".py",
   "mimetype": "text/x-python",
   "name": "python",
   "nbconvert_exporter": "python",
   "pygments_lexer": "ipython3",
   "version": "3.9.7"
  },
  "orig_nbformat": 4
 },
 "nbformat": 4,
 "nbformat_minor": 2
}
