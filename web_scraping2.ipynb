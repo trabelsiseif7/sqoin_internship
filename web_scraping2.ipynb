{
 "cells": [
  {
   "cell_type": "code",
   "execution_count": 1,
   "metadata": {},
   "outputs": [
    {
     "name": "stderr",
     "output_type": "stream",
     "text": [
      "c:\\Users\\trabe\\AppData\\Local\\Programs\\Python\\Python39\\lib\\site-packages\\requests\\__init__.py:102: RequestsDependencyWarning: urllib3 (1.26.6) or chardet (5.1.0)/charset_normalizer (2.0.5) doesn't match a supported version!\n",
      "  warnings.warn(\"urllib3 ({}) or chardet ({})/charset_normalizer ({}) doesn't match a supported \"\n"
     ]
    }
   ],
   "source": [
    "import requests\n",
    "from bs4 import BeautifulSoup\n",
    "import csv\n",
    "from itertools import zip_longest\n",
    "import pandas as pd\n",
    "import pymysql\n",
    "import sqlite3\n",
    "import pyodbc"
   ]
  },
  {
   "cell_type": "code",
   "execution_count": 2,
   "metadata": {},
   "outputs": [],
   "source": [
    "result = requests.get(f\"https://www.theknowledgeacademy.com/blog/blockchain-interview-questions/\")    \n",
    "src = result.content\n",
    "soup = BeautifulSoup(src,\"lxml\")"
   ]
  },
  {
   "cell_type": "code",
   "execution_count": 3,
   "metadata": {},
   "outputs": [],
   "source": [
    "questions = soup.find_all(\"h3\")"
   ]
  },
  {
   "cell_type": "code",
   "execution_count": 4,
   "metadata": {},
   "outputs": [
    {
     "data": {
      "text/plain": [
       "78"
      ]
     },
     "execution_count": 4,
     "metadata": {},
     "output_type": "execute_result"
    }
   ],
   "source": [
    "len(questions)"
   ]
  },
  {
   "cell_type": "code",
   "execution_count": 5,
   "metadata": {},
   "outputs": [],
   "source": [
    "Questions_list = []\n",
    "answers_list = []\n",
    "for i in range(len(questions)):\n",
    "    question = questions[i]\n",
    "    question_text = question.text\n",
    "\n",
    "    # Find the next <h3> tag, or the end of the document\n",
    "    if i+1 < len(questions):\n",
    "        next_question = questions[i+1]\n",
    "    else:\n",
    "        next_question = None\n",
    "\n",
    "    # Find all <p> tags (answers) between the current and next question\n",
    "    answer_tags = []\n",
    "    current_element = question.next_sibling\n",
    "    while current_element is not None and current_element != next_question:\n",
    "        if current_element.name == \"p\":\n",
    "            answer_tags.append(current_element)\n",
    "        current_element = current_element.next_sibling\n",
    "\n",
    "    # Extract the text content of all <p> tags\n",
    "    answers = [answer.text for answer in answer_tags]\n",
    "\n",
    "    Questions_list.append(question_text)\n",
    "    answer = \"\"\n",
    "    for i in range(len(answers)):\n",
    "        answer = answer +\" \"+ answers[i]\n",
    "    answers_list.append(answer)"
   ]
  },
  {
   "cell_type": "code",
   "execution_count": 6,
   "metadata": {},
   "outputs": [
    {
     "data": {
      "text/plain": [
       "78"
      ]
     },
     "execution_count": 6,
     "metadata": {},
     "output_type": "execute_result"
    }
   ],
   "source": [
    "len(Questions_list)"
   ]
  },
  {
   "cell_type": "code",
   "execution_count": 7,
   "metadata": {},
   "outputs": [
    {
     "data": {
      "text/plain": [
       "78"
      ]
     },
     "execution_count": 7,
     "metadata": {},
     "output_type": "execute_result"
    }
   ],
   "source": [
    "len(answers_list)"
   ]
  },
  {
   "cell_type": "code",
   "execution_count": 8,
   "metadata": {},
   "outputs": [
    {
     "name": "stdout",
     "output_type": "stream",
     "text": [
      "['1) What do you understand by Blockchain Technology? How does it work?\\xa0', '2) What are the key features of Blockchain?', '3) State the different types of Blockchains.\\xa0\\xa0', '4) Differentiate between Ethereum Blockchain and Bitcoin Blockchain.\\r\\n\\xa0', '\\n5) What do you understand by a block in Blockchain Technology? How is it recognised?\\xa0', '6) Where is a Blockchain stored?', '7) What are the two types of records available in the Blockchain Database?', '8) What is a Smart Contract in Blockchain?\\xa0\\xa0', '9) Where and how do nodes run a smart contract code?', '10) How can you identify a block?', '11) Discuss the elements of a block in Blockchain.\\xa0', '12) How does Blockchain differ from relational databases?', '\\n13) What is the principle on which blockchain technology is based on?', '14) What are the benefits of Blockchain Technology?', '15) Discuss whether it is possible in Blockchain to remove one or more blocks from the networks.\\xa0', '16) What is cryptography? What is its role in Blockchain?', '17) What is a Genesis Block?', '18) What is a Dapp and how is it different from a normal application?', '19) What is the very first thing you must specify in a Solidity file?', '20) What is the nonce and how is it used in mining?', '21) Why is Blockchain a trusted approach?', '22) What do you mean by DAO?', '23) What do you mean by Coinbase transaction?', '1) List some popular platforms for developing Blockchain applications\\xa0', '2) Can you modify the data in a block?\\xa0', '3) What do you understand about the security of a block?\\xa0', '4) What is the Merkle Tree? How is it important for Blockchains?\\xa0', '5) What is a ledger? List the different types of ledgers in Blockchain.\\xa0', '6) Which cryptographic algorithm is used in Blockchain?', '7) In what order are the blocks linked in the blockchain?', '8) What is Double Spending? Is it possible to double spend in a Blockchain system?', \"9) Blockchain vs Hyperledger - what's the difference?\\xa0\", '10) Is Blockchain different from Banking Ledgers?\\xa0\\xa0', '11) How are Blockchain Distributed Ledgers different from Traditional Ledgers?\\r\\n\\xa0\\xa0', '\\n12) Do you know the difference between Blockchain and Database?\\r\\n\\xa0', '\\n13) What do you understand by Cryptography, and what is its role in Blockchain?\\xa0', '14) Name some of the universally used Cryptographic algorithms in Blockchain.\\xa0\\xa0', '15) Explain what happens when you try to deploy a file with multiple contracts.\\xa0', '16) Tell me more about the RSA algorithm? How secure is this algorithm?', '17) How will you handle the risk management when it comes to securing the transaction records?', '18) What are the core requirements for a Business Blockchain?', '19) What is a security policy?', '1) What is a Blind Signature? Explain its significance.\\xa0', '2) What are the steps involved in the Blockchain Project Implementation?\\xa0', '3) What is Secret Sharing? How does it benefit Blockchain Technology?\\xa0', '4) What is meant by Executive Accounting, and does Blockchain support it?\\xa0\\xa0', '5) Differentiate between Centralised Network, Decentralised Network and Distributed Ledger.\\xa0\\xa0', '6) What are the important elements of the Blockchain Ecosystem?\\xa0\\xa0\\r\\n\\xa0', '7) What Is Hashing in Blockchain?', '8) What are some of the popular Cryptocurrencies?', '9) What are Blockchain Durability and robustness?', '10) Name some of the popular consensus algorithms?', '11) Explain the difference between Proof of Work and Proof of Stake?\\xa0', '12) Describe a real-life use case of Blockchain Technology.\\xa0\\xa0', '13) Explain the various parts of EVM Memory.\\xa0', '14) What does BIP stand for?', '15) What is a trapdoor function in blockchain development?', '16) Why does Blockchain need coins or tokens?', '17) What is the difference between a scriptPubKey and a P2SH address?', '18) What is Mining?', '19) What do you understand by a 51% attack?\\xa0', '20) Name organisations that use Blockchain Technology.\\xa0', '21) Differentiate between off-chain transactions and on-chain transactions?\\xa0', '22) What is a Public Key?', '23) What is a Private Key?', '24) What is Transparent and incorruptible in blockchain?', '25) What Do You Think About the Future of Blockchain?', '26) What are function modifiers in Solidity? Name the most extensively used modifiers.', '\\n27) What is the Fork? Explain its types.\\xa0', '28) What happens if the execution of a smart contract costs more than the specified gas?\\xa0', '29) What is Cryptocurrency?', '30) What are the limitations of blockchain?', '31) What is encryption? What is its role in Blockchain?', '32) How does the security of a block works?', '33) What is the difference between public and private key?', '34) How does bitcoin use Blockchain?', '35) What is Consensus algorithm?', '36) What are the types of consensus algorithms?']\n"
     ]
    }
   ],
   "source": [
    "print(Questions_list)"
   ]
  },
  {
   "cell_type": "code",
   "execution_count": 9,
   "metadata": {},
   "outputs": [
    {
     "name": "stdout",
     "output_type": "stream",
     "text": [
      " Blockchain is a decentralised, immutable record of economic activity that may be used to record nearly any exchange of value, not just money.  A Blockchain is a continuously expanding digital ledger that maintains an unalterable, secure record of all transactions that have ever occurred. Simply described, it is an immutable distributed database that is administered by a group of computers but is not owned by any one organisation. Blockchain data is kept as flat files or databases. Without the need for a third-party middleman like a bank or the government, it may be used for the secure transfer of money, property, contracts, etc. \n"
     ]
    }
   ],
   "source": [
    "print(answers_list[0])"
   ]
  },
  {
   "cell_type": "code",
   "execution_count": 10,
   "metadata": {},
   "outputs": [],
   "source": [
    "import pandas as pd \n",
    "df = pd.DataFrame({\"Questions\":Questions_list , \"Answers\":answers_list})"
   ]
  },
  {
   "cell_type": "code",
   "execution_count": 11,
   "metadata": {},
   "outputs": [
    {
     "data": {
      "text/html": [
       "<div>\n",
       "<style scoped>\n",
       "    .dataframe tbody tr th:only-of-type {\n",
       "        vertical-align: middle;\n",
       "    }\n",
       "\n",
       "    .dataframe tbody tr th {\n",
       "        vertical-align: top;\n",
       "    }\n",
       "\n",
       "    .dataframe thead th {\n",
       "        text-align: right;\n",
       "    }\n",
       "</style>\n",
       "<table border=\"1\" class=\"dataframe\">\n",
       "  <thead>\n",
       "    <tr style=\"text-align: right;\">\n",
       "      <th></th>\n",
       "      <th>Questions</th>\n",
       "      <th>Answers</th>\n",
       "    </tr>\n",
       "  </thead>\n",
       "  <tbody>\n",
       "    <tr>\n",
       "      <th>0</th>\n",
       "      <td>1) What do you understand by Blockchain Techno...</td>\n",
       "      <td>Blockchain is a decentralised, immutable reco...</td>\n",
       "    </tr>\n",
       "    <tr>\n",
       "      <th>1</th>\n",
       "      <td>2) What are the key features of Blockchain?</td>\n",
       "      <td>The key features of Blockchain Technology are...</td>\n",
       "    </tr>\n",
       "    <tr>\n",
       "      <th>2</th>\n",
       "      <td>3) State the different types of Blockchains.</td>\n",
       "      <td>Public, Private, and Consortium Blockchain a...</td>\n",
       "    </tr>\n",
       "    <tr>\n",
       "      <th>3</th>\n",
       "      <td>4) Differentiate between Ethereum Blockchain a...</td>\n",
       "      <td></td>\n",
       "    </tr>\n",
       "    <tr>\n",
       "      <th>4</th>\n",
       "      <td>\\n5) What do you understand by a block in Bloc...</td>\n",
       "      <td>Every block in this online ledger essentially...</td>\n",
       "    </tr>\n",
       "    <tr>\n",
       "      <th>...</th>\n",
       "      <td>...</td>\n",
       "      <td>...</td>\n",
       "    </tr>\n",
       "    <tr>\n",
       "      <th>73</th>\n",
       "      <td>32) How does the security of a block works?</td>\n",
       "      <td>A chain of blocks in a Blockchain contains a ...</td>\n",
       "    </tr>\n",
       "    <tr>\n",
       "      <th>74</th>\n",
       "      <td>33) What is the difference between public and ...</td>\n",
       "      <td>A private key is used to lock or encrypt a me...</td>\n",
       "    </tr>\n",
       "    <tr>\n",
       "      <th>75</th>\n",
       "      <td>34) How does bitcoin use Blockchain?</td>\n",
       "      <td>A transaction happens when there is a value t...</td>\n",
       "    </tr>\n",
       "    <tr>\n",
       "      <th>76</th>\n",
       "      <td>35) What is Consensus algorithm?</td>\n",
       "      <td>The method of achieving consensus on a change...</td>\n",
       "    </tr>\n",
       "    <tr>\n",
       "      <th>77</th>\n",
       "      <td>36) What are the types of consensus algorithms?</td>\n",
       "      <td>There are different types of consensus algori...</td>\n",
       "    </tr>\n",
       "  </tbody>\n",
       "</table>\n",
       "<p>78 rows × 2 columns</p>\n",
       "</div>"
      ],
      "text/plain": [
       "                                            Questions  \\\n",
       "0   1) What do you understand by Blockchain Techno...   \n",
       "1         2) What are the key features of Blockchain?   \n",
       "2      3) State the different types of Blockchains.     \n",
       "3   4) Differentiate between Ethereum Blockchain a...   \n",
       "4   \\n5) What do you understand by a block in Bloc...   \n",
       "..                                                ...   \n",
       "73        32) How does the security of a block works?   \n",
       "74  33) What is the difference between public and ...   \n",
       "75               34) How does bitcoin use Blockchain?   \n",
       "76                   35) What is Consensus algorithm?   \n",
       "77    36) What are the types of consensus algorithms?   \n",
       "\n",
       "                                              Answers  \n",
       "0    Blockchain is a decentralised, immutable reco...  \n",
       "1    The key features of Blockchain Technology are...  \n",
       "2     Public, Private, and Consortium Blockchain a...  \n",
       "3                                                      \n",
       "4    Every block in this online ledger essentially...  \n",
       "..                                                ...  \n",
       "73   A chain of blocks in a Blockchain contains a ...  \n",
       "74   A private key is used to lock or encrypt a me...  \n",
       "75   A transaction happens when there is a value t...  \n",
       "76   The method of achieving consensus on a change...  \n",
       "77   There are different types of consensus algori...  \n",
       "\n",
       "[78 rows x 2 columns]"
      ]
     },
     "execution_count": 11,
     "metadata": {},
     "output_type": "execute_result"
    }
   ],
   "source": [
    "df"
   ]
  },
  {
   "cell_type": "code",
   "execution_count": 12,
   "metadata": {},
   "outputs": [],
   "source": [
    "df.to_excel('78rows_qa.xlsx')"
   ]
  }
 ],
 "metadata": {
  "kernelspec": {
   "display_name": "Python 3",
   "language": "python",
   "name": "python3"
  },
  "language_info": {
   "codemirror_mode": {
    "name": "ipython",
    "version": 3
   },
   "file_extension": ".py",
   "mimetype": "text/x-python",
   "name": "python",
   "nbconvert_exporter": "python",
   "pygments_lexer": "ipython3",
   "version": "3.9.7"
  },
  "orig_nbformat": 4
 },
 "nbformat": 4,
 "nbformat_minor": 2
}
