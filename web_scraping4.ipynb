{
 "cells": [
  {
   "cell_type": "code",
   "execution_count": 1,
   "metadata": {},
   "outputs": [
    {
     "name": "stderr",
     "output_type": "stream",
     "text": [
      "c:\\Users\\trabe\\AppData\\Local\\Programs\\Python\\Python39\\lib\\site-packages\\requests\\__init__.py:102: RequestsDependencyWarning: urllib3 (1.26.6) or chardet (5.1.0)/charset_normalizer (2.0.5) doesn't match a supported version!\n",
      "  warnings.warn(\"urllib3 ({}) or chardet ({})/charset_normalizer ({}) doesn't match a supported \"\n"
     ]
    }
   ],
   "source": [
    "import requests\n",
    "from bs4 import BeautifulSoup\n",
    "import csv\n",
    "from itertools import zip_longest\n",
    "import pandas as pd\n",
    "import pymysql\n",
    "import sqlite3\n",
    "import pyodbc"
   ]
  },
  {
   "cell_type": "code",
   "execution_count": 2,
   "metadata": {},
   "outputs": [],
   "source": [
    "result = requests.get(f\"https://consensys.net/knowledge-base/blockchain-super-faq/\")    \n",
    "src = result.content\n",
    "soup = BeautifulSoup(src,\"lxml\")"
   ]
  },
  {
   "cell_type": "code",
   "execution_count": 14,
   "metadata": {},
   "outputs": [],
   "source": [
    "questions = soup.find_all(\"h4\")"
   ]
  },
  {
   "cell_type": "code",
   "execution_count": 15,
   "metadata": {},
   "outputs": [
    {
     "data": {
      "text/plain": [
       "49"
      ]
     },
     "execution_count": 15,
     "metadata": {},
     "output_type": "execute_result"
    }
   ],
   "source": [
    "len(questions)"
   ]
  },
  {
   "cell_type": "code",
   "execution_count": 16,
   "metadata": {},
   "outputs": [],
   "source": [
    "questions = questions[:46]"
   ]
  },
  {
   "cell_type": "code",
   "execution_count": 17,
   "metadata": {},
   "outputs": [
    {
     "data": {
      "text/plain": [
       "[<h4><span style=\"font-weight:400\">What is a blockchain?</span></h4>,\n",
       " <h4><span style=\"font-weight:400\">What is blockchain software?</span></h4>,\n",
       " <h4><span style=\"font-weight:400\">What is a blockchain database?</span></h4>,\n",
       " <h4><span style=\"font-weight:400\">What is a blockchain system?</span></h4>,\n",
       " <h4><span style=\"font-weight:400\">How does a blockchain work?</span></h4>,\n",
       " <h4><span style=\"font-weight:400\">What is a blockchain application?</span></h4>,\n",
       " <h4><span style=\"font-weight:400\">What are the benefits of blockchain technology?</span></h4>,\n",
       " <h4><span style=\"font-weight:400\">What is the blockchain revolution?</span></h4>,\n",
       " <h4><span style=\"font-weight:400\">What is decentralized finance (DeFi)?</span></h4>,\n",
       " <h4><span style=\"font-weight:400\">What is a block in a blockchain?</span></h4>,\n",
       " <h4><span style=\"font-weight:400\">What is block time?</span></h4>,\n",
       " <h4><span style=\"font-weight:400\">What is distributed ledger technology?</span></h4>,\n",
       " <h4><span style=\"font-weight:400\">What is a blockchain wallet?</span></h4>,\n",
       " <h4><span style=\"font-weight:400\">What is blockchain programming?</span></h4>,\n",
       " <h4><span style=\"font-weight:400\">What is a blockchain company?</span></h4>,\n",
       " <h4><span style=\"font-weight:400\">What is a private blockchain?</span></h4>,\n",
       " <h4><span style=\"font-weight:400\">What are zk-SNARKs?</span></h4>,\n",
       " <h4><span style=\"font-weight:400\">What is Ethereum?</span></h4>,\n",
       " <h4><span style=\"font-weight:400\">How does Ethereum work?</span></h4>,\n",
       " <h4><span style=\"font-weight:400\">What is an Ethereum block?</span></h4>,\n",
       " <h4><span style=\"font-weight:400\">What is an Ethereum smart contract?</span></h4>,\n",
       " <h4><span style=\"font-weight:400\">What is an Ethereum client?</span></h4>,\n",
       " <h4><span style=\"font-weight:400\">What is Ethereum backed by?</span></h4>,\n",
       " <h4><span style=\"font-weight:400\">What is ether (ETH)?</span></h4>,\n",
       " <h4><span style=\"font-weight:400\">What is an ETH address?</span></h4>,\n",
       " <h4><span style=\"font-weight:400\">How can I earn ether (ETH)?</span></h4>,\n",
       " <h4><span style=\"font-weight:400\">How long does it take to transfer ether?</span></h4>,\n",
       " <h4><span style=\"font-weight:400\">What is the gas limit in Ethereum?</span></h4>,\n",
       " <h4><span style=\"font-weight:400\">What is Ethereum coded in?</span></h4>,\n",
       " <h4><span style=\"font-weight:400\">What is Ethereum used for?</span></h4>,\n",
       " <h4><span style=\"font-weight:400\">What is the Enterprise Ethereum Alliance?</span></h4>,\n",
       " <h4><span style=\"font-weight:400\">What’s the difference between Bitcoin and Ethereum?</span></h4>,\n",
       " <h4><span style=\"font-weight:400\">What’s better, Bitcoin or Ethereum?</span></h4>,\n",
       " <h4><span style=\"font-weight:400\">What is Byzantium Ethereum?</span></h4>,\n",
       " <h4><span style=\"font-weight:400\">What is Proof of Stake (PoS) Ethereum?</span></h4>,\n",
       " <h4><span style=\"font-weight:400\">What’s next for Ethereum?</span></h4>,\n",
       " <h4><span style=\"font-weight:400\">What is Ethereum mining?</span></h4>,\n",
       " <h4><span style=\"font-weight:400\">How long does it take to mine Ethereum?</span></h4>,\n",
       " <h4><span style=\"font-weight:400\">What is the hashrate of Ethereum?</span></h4>,\n",
       " <h4><span style=\"font-weight:400\">Can I mine Ethereum?</span></h4>,\n",
       " <h4><span style=\"font-weight:400\">Can my computer mine Ethereum?</span></h4>,\n",
       " <h4><span style=\"font-weight:400\">What is Ethereum difficulty?</span></h4>,\n",
       " <h4><span style=\"font-weight:400\">What do you need to mine Ethereum?</span></h4>,\n",
       " <h4><span style=\"font-weight:400\">Can you mine Ethereum on a laptop?</span></h4>,\n",
       " <h4><span style=\"font-weight:400\">Can you mine Ethereum on a Mac?</span></h4>,\n",
       " <h4><span style=\"font-weight:400\">How much Ethereum can I mine in a day?</span></h4>]"
      ]
     },
     "execution_count": 17,
     "metadata": {},
     "output_type": "execute_result"
    }
   ],
   "source": [
    "questions"
   ]
  },
  {
   "cell_type": "code",
   "execution_count": 18,
   "metadata": {},
   "outputs": [],
   "source": [
    "Questions_list = []\n",
    "answers_list = []\n",
    "for i in range(len(questions)):\n",
    "    question = questions[i]\n",
    "    question_text = question.text\n",
    "\n",
    "    # Find the next <h3> tag, or the end of the document\n",
    "    if i+1 < len(questions):\n",
    "        next_question = questions[i+1]\n",
    "    else:\n",
    "        next_question = None\n",
    "\n",
    "    # Find all <p> tags (answers) between the current and next question\n",
    "    answer_tags = []\n",
    "    current_element = question.next_sibling\n",
    "    while current_element is not None and current_element != next_question:\n",
    "        if current_element.name == \"p\":\n",
    "            answer_tags.append(current_element)\n",
    "        current_element = current_element.next_sibling\n",
    "\n",
    "    # Extract the text content of all <p> tags\n",
    "    answers = [answer.text for answer in answer_tags]\n",
    "\n",
    "    Questions_list.append(question_text)\n",
    "    answer = \"\"\n",
    "    for i in range(len(answers)):\n",
    "        answer = answer +\" \"+ answers[i]\n",
    "    answers_list.append(answer)"
   ]
  },
  {
   "cell_type": "code",
   "execution_count": 22,
   "metadata": {},
   "outputs": [
    {
     "data": {
      "text/plain": [
       "46"
      ]
     },
     "execution_count": 22,
     "metadata": {},
     "output_type": "execute_result"
    }
   ],
   "source": [
    "len(Questions_list)"
   ]
  },
  {
   "cell_type": "code",
   "execution_count": 21,
   "metadata": {},
   "outputs": [
    {
     "data": {
      "text/plain": [
       "46"
      ]
     },
     "execution_count": 21,
     "metadata": {},
     "output_type": "execute_result"
    }
   ],
   "source": [
    "len(answers_list)"
   ]
  },
  {
   "cell_type": "code",
   "execution_count": 23,
   "metadata": {},
   "outputs": [],
   "source": [
    "import pandas as pd \n",
    "df = pd.DataFrame({\"Questions\":Questions_list , \"Answers\":answers_list})"
   ]
  },
  {
   "cell_type": "code",
   "execution_count": 24,
   "metadata": {},
   "outputs": [
    {
     "data": {
      "text/html": [
       "<div>\n",
       "<style scoped>\n",
       "    .dataframe tbody tr th:only-of-type {\n",
       "        vertical-align: middle;\n",
       "    }\n",
       "\n",
       "    .dataframe tbody tr th {\n",
       "        vertical-align: top;\n",
       "    }\n",
       "\n",
       "    .dataframe thead th {\n",
       "        text-align: right;\n",
       "    }\n",
       "</style>\n",
       "<table border=\"1\" class=\"dataframe\">\n",
       "  <thead>\n",
       "    <tr style=\"text-align: right;\">\n",
       "      <th></th>\n",
       "      <th>Questions</th>\n",
       "      <th>Answers</th>\n",
       "    </tr>\n",
       "  </thead>\n",
       "  <tbody>\n",
       "    <tr>\n",
       "      <th>0</th>\n",
       "      <td>What is a blockchain?</td>\n",
       "      <td>A blockchain is a distributed, cryptographica...</td>\n",
       "    </tr>\n",
       "    <tr>\n",
       "      <th>1</th>\n",
       "      <td>What is blockchain software?</td>\n",
       "      <td>Blockchain software is like any other softwar...</td>\n",
       "    </tr>\n",
       "    <tr>\n",
       "      <th>2</th>\n",
       "      <td>What is a blockchain database?</td>\n",
       "      <td>Historically, databases have incorporated a c...</td>\n",
       "    </tr>\n",
       "    <tr>\n",
       "      <th>3</th>\n",
       "      <td>What is a blockchain system?</td>\n",
       "      <td>A blockchain system refers to all the aspects...</td>\n",
       "    </tr>\n",
       "    <tr>\n",
       "      <th>4</th>\n",
       "      <td>How does a blockchain work?</td>\n",
       "      <td>When a digital transaction occurs in a blockc...</td>\n",
       "    </tr>\n",
       "  </tbody>\n",
       "</table>\n",
       "</div>"
      ],
      "text/plain": [
       "                        Questions  \\\n",
       "0           What is a blockchain?   \n",
       "1    What is blockchain software?   \n",
       "2  What is a blockchain database?   \n",
       "3    What is a blockchain system?   \n",
       "4     How does a blockchain work?   \n",
       "\n",
       "                                             Answers  \n",
       "0   A blockchain is a distributed, cryptographica...  \n",
       "1   Blockchain software is like any other softwar...  \n",
       "2   Historically, databases have incorporated a c...  \n",
       "3   A blockchain system refers to all the aspects...  \n",
       "4   When a digital transaction occurs in a blockc...  "
      ]
     },
     "execution_count": 24,
     "metadata": {},
     "output_type": "execute_result"
    }
   ],
   "source": [
    "df.head()"
   ]
  },
  {
   "cell_type": "code",
   "execution_count": 25,
   "metadata": {},
   "outputs": [],
   "source": [
    "df.to_excel(\"46rows.xlsx\")"
   ]
  },
  {
   "cell_type": "code",
   "execution_count": null,
   "metadata": {},
   "outputs": [],
   "source": []
  }
 ],
 "metadata": {
  "kernelspec": {
   "display_name": "Python 3",
   "language": "python",
   "name": "python3"
  },
  "language_info": {
   "codemirror_mode": {
    "name": "ipython",
    "version": 3
   },
   "file_extension": ".py",
   "mimetype": "text/x-python",
   "name": "python",
   "nbconvert_exporter": "python",
   "pygments_lexer": "ipython3",
   "version": "3.9.7"
  },
  "orig_nbformat": 4
 },
 "nbformat": 4,
 "nbformat_minor": 2
}
